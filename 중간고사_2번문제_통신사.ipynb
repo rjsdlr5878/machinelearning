{
  "nbformat": 4,
  "nbformat_minor": 0,
  "metadata": {
    "colab": {
      "name": "중간고사 2번문제 통신사",
      "private_outputs": true,
      "provenance": [],
      "collapsed_sections": [],
      "authorship_tag": "ABX9TyPBl8ufdDmR3SLflSlTClH+",
      "include_colab_link": true
    },
    "kernelspec": {
      "name": "python3",
      "display_name": "Python 3"
    },
    "language_info": {
      "name": "python"
    }
  },
  "cells": [
    {
      "cell_type": "markdown",
      "metadata": {
        "id": "view-in-github",
        "colab_type": "text"
      },
      "source": [
        "<a href=\"https://colab.research.google.com/github/rjsdlr5878/machinelearning/blob/main/%EC%A4%91%EA%B0%84%EA%B3%A0%EC%82%AC_2%EB%B2%88%EB%AC%B8%EC%A0%9C_%ED%86%B5%EC%8B%A0%EC%82%AC.ipynb\" target=\"_parent\"><img src=\"https://colab.research.google.com/assets/colab-badge.svg\" alt=\"Open In Colab\"/></a>"
      ]
    },
    {
      "cell_type": "code",
      "execution_count": null,
      "metadata": {
        "id": "g5l9deZsKtz8"
      },
      "outputs": [],
      "source": [
        "import pandas as pd\n",
        "train=pd.read_csv(\"train.csv\",engine='python')\n",
        "test=pd.read_csv(\"test.csv\",engine='python')\n",
        "sample=pd.read_csv(\"sample_submit.csv\",engine='python')\n",
        "y=train['Churn']\n",
        "train=train.drop('customerID',axis=1)\n",
        "test=test.drop('customerID',axis=1)\n",
        "train=train.drop('PaymentMethod',axis=1)\n",
        "test=test.drop('PaymentMethod',axis=1)\n",
        "train=train.drop('PaperlessBilling',axis=1)\n",
        "test=test.drop('PaperlessBilling',axis=1)\n",
        "train=train.drop('Churn',axis=1)\n",
        "train=train.drop('TotalCharges',axis=1)\n",
        "test=test.drop('TotalCharges',axis=1)\n",
        "#qda 0.75792 리버스는 가장마지막걸 리버스하므로\n",
        "#churn을 맨마지막에 라벨링해준다\n",
        "train.info(0)"
      ]
    },
    {
      "cell_type": "code",
      "source": [
        "from sklearn.preprocessing import LabelEncoder\n",
        "import numpy as np\n",
        "classle=LabelEncoder()\n",
        "train['gender']"
      ],
      "metadata": {
        "id": "3gj6lLlmY3Um"
      },
      "execution_count": null,
      "outputs": []
    },
    {
      "cell_type": "code",
      "source": [
        "train['gender']=classle.fit_transform(train['gender'].values)\n",
        "test['gender']=classle.fit_transform(test['gender'].values)\n",
        "train['Partner']=classle.fit_transform(train['Partner'].values)\n",
        "test['Partner']=classle.fit_transform(test['Partner'].values)\n",
        "train['Dependents']=classle.fit_transform(train['Dependents'].values)\n",
        "test['Dependents']=classle.fit_transform(test['Dependents'].values)\n",
        "train['PhoneService']=classle.fit_transform(train['PhoneService'].values)\n",
        "test['PhoneService']=classle.fit_transform(test['PhoneService'].values)\n",
        "train['MultipleLines']=classle.fit_transform(train['MultipleLines'].values)\n",
        "test['MultipleLines']=classle.fit_transform(test['MultipleLines'].values)\n",
        "train['InternetService']=classle.fit_transform(train['InternetService'].values)\n",
        "test['InternetService']=classle.fit_transform(test['InternetService'].values)\n",
        "train['OnlineSecurity']=classle.fit_transform(train['OnlineSecurity'].values)\n",
        "test['OnlineSecurity']=classle.fit_transform(test['OnlineSecurity'].values)\n",
        "train['OnlineBackup']=classle.fit_transform(train['OnlineBackup'].values)\n",
        "test['OnlineBackup']=classle.fit_transform(test['OnlineBackup'].values)\n",
        "train['DeviceProtection']=classle.fit_transform(train['DeviceProtection'].values)\n",
        "test['DeviceProtection']=classle.fit_transform(test['DeviceProtection'].values)\n",
        "train['TechSupport']=classle.fit_transform(train['TechSupport'].values)\n",
        "test['TechSupport']=classle.fit_transform(test['TechSupport'].values)\n",
        "train['StreamingTV']=classle.fit_transform(train['StreamingTV'].values)\n",
        "test['StreamingTV']=classle.fit_transform(test['StreamingTV'].values)\n",
        "train['StreamingMovies']=classle.fit_transform(train['StreamingMovies'].values)\n",
        "test['StreamingMovies']=classle.fit_transform(test['StreamingMovies'].values)\n",
        "train['Contract']=classle.fit_transform(train['Contract'].values)\n",
        "test['Contract']=classle.fit_transform(test['Contract'].values)\n",
        "y=classle.fit_transform(y.values)"
      ],
      "metadata": {
        "id": "HoWjGbjSPNzj"
      },
      "execution_count": null,
      "outputs": []
    },
    {
      "cell_type": "code",
      "source": [
        "from sklearn.preprocessing import StandardScaler\n",
        "sc=StandardScaler()\n",
        "sc.fit(train)\n",
        "test_std=sc.transform(test)\n",
        "train_std=sc.transform(train)"
      ],
      "metadata": {
        "id": "xY2JEfvpiT61"
      },
      "execution_count": null,
      "outputs": []
    },
    {
      "cell_type": "code",
      "source": [
        "from sklearn.discriminant_analysis import QuadraticDiscriminantAnalysis #6주차로 풀어야 점수높음\n",
        "qld=QuadraticDiscriminantAnalysis(store_covariance=True)\n",
        "qld.fit(train_std,y)\n",
        "y_test=qld.predict(test_std)"
      ],
      "metadata": {
        "id": "oQlyMYcqQXNX"
      },
      "execution_count": null,
      "outputs": []
    },
    {
      "cell_type": "code",
      "source": [
        "sample['Churn']=y_test\n",
        "sample.to_csv(\"sample_submit.csv\",index=False)"
      ],
      "metadata": {
        "id": "xcdutKO-Xe_Z"
      },
      "execution_count": null,
      "outputs": []
    },
    {
      "cell_type": "code",
      "source": [
        ""
      ],
      "metadata": {
        "id": "3Zk-xGC7baGs"
      },
      "execution_count": null,
      "outputs": []
    }
  ]
}