{
  "nbformat": 4,
  "nbformat_minor": 0,
  "metadata": {
    "colab": {
      "name": "중간고사 3번문제 손글씨 숫자",
      "private_outputs": true,
      "provenance": [],
      "collapsed_sections": [],
      "authorship_tag": "ABX9TyOyRe3opPh9HBKzks/7HVgJ",
      "include_colab_link": true
    },
    "kernelspec": {
      "name": "python3",
      "display_name": "Python 3"
    },
    "language_info": {
      "name": "python"
    }
  },
  "cells": [
    {
      "cell_type": "markdown",
      "metadata": {
        "id": "view-in-github",
        "colab_type": "text"
      },
      "source": [
        "<a href=\"https://colab.research.google.com/github/rjsdlr5878/machinelearning/blob/main/%EC%A4%91%EA%B0%84%EA%B3%A0%EC%82%AC_3%EB%B2%88%EB%AC%B8%EC%A0%9C_%EC%86%90%EA%B8%80%EC%94%A8_%EC%88%AB%EC%9E%90.ipynb\" target=\"_parent\"><img src=\"https://colab.research.google.com/assets/colab-badge.svg\" alt=\"Open In Colab\"/></a>"
      ]
    },
    {
      "cell_type": "code",
      "execution_count": null,
      "metadata": {
        "id": "pbry1S3uUFlU"
      },
      "outputs": [],
      "source": [
        "import pandas as pd\n",
        "sample=pd.read_csv(\"sample_submit.csv\",engine='python')\n",
        "test=pd.read_csv(\"test.csv\",engine='python')\n",
        "train=pd.read_csv(\"train.csv\",engine='python')\n",
        "y=train['label']\n",
        "train=train.drop('label',axis=1)\n",
        "#0.85833 QuardDiscrim 정규화 x\n",
        "#0.80xx QuarDisc 정규화 0\n",
        "# LinearDiscriminat 정규화 o,x 둘다 0.94166\n",
        "# KNN(k=1이 최고) 정규화 0.975 정규화안하면 개 안좋음 "
      ]
    },
    {
      "cell_type": "code",
      "source": [
        "from sklearn.preprocessing import StandardScaler\n",
        "sc=StandardScaler()\n",
        "sc.fit(train)\n",
        "train_std=sc.transform(train)\n",
        "test_std=sc.transform(test)"
      ],
      "metadata": {
        "id": "--9lQiskoMGS"
      },
      "execution_count": null,
      "outputs": []
    },
    {
      "cell_type": "code",
      "source": [
        "from sklearn.neighbors import KNeighborsClassifier\n",
        "knn=KNeighborsClassifier(n_neighbors=5,p=2)\n",
        "knn.fit(train_std,y)\n",
        "predK=knn.predict(test_std)"
      ],
      "metadata": {
        "id": "fcOsEXwPqKrA"
      },
      "execution_count": null,
      "outputs": []
    },
    {
      "cell_type": "code",
      "source": [
        "#from sklearn.discriminant_analysis import LinearDiscriminantAnalysis\n",
        "#qld=LinearDiscriminantAnalysis(store_covariance=True)\n",
        "#qld.fit(train_std,y)\n",
        "#y_test=qld.predict(test_std)"
      ],
      "metadata": {
        "id": "jTDSOvWNkwYO"
      },
      "execution_count": null,
      "outputs": []
    },
    {
      "cell_type": "code",
      "source": [
        "sample['label']=predK\n",
        "sample.to_csv(\"sample_submit.csv\",index=False)"
      ],
      "metadata": {
        "id": "hHEF6tNRnKWM"
      },
      "execution_count": null,
      "outputs": []
    }
  ]
}