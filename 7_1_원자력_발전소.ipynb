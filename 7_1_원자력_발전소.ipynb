{
  "nbformat": 4,
  "nbformat_minor": 0,
  "metadata": {
    "colab": {
      "name": "7.1 원자력 발전소",
      "private_outputs": true,
      "provenance": [],
      "authorship_tag": "ABX9TyPpTzqJD8gwlAVB/Kd9bn1V",
      "include_colab_link": true
    },
    "kernelspec": {
      "name": "python3",
      "display_name": "Python 3"
    },
    "language_info": {
      "name": "python"
    }
  },
  "cells": [
    {
      "cell_type": "markdown",
      "metadata": {
        "id": "view-in-github",
        "colab_type": "text"
      },
      "source": [
        "<a href=\"https://colab.research.google.com/github/rjsdlr5878/machinelearning/blob/main/7_1_%EC%9B%90%EC%9E%90%EB%A0%A5_%EB%B0%9C%EC%A0%84%EC%86%8C.ipynb\" target=\"_parent\"><img src=\"https://colab.research.google.com/assets/colab-badge.svg\" alt=\"Open In Colab\"/></a>"
      ]
    },
    {
      "cell_type": "code",
      "execution_count": null,
      "metadata": {
        "id": "1m4eUB_HmYmj"
      },
      "outputs": [],
      "source": [
        "import pandas as pd\n",
        "train=pd.read_csv(\"pca_train.csv\",engine='python')\n",
        "test=pd.read_csv(\"pca_test.csv\",engine='python')\n",
        "sample=pd.read_csv(\"sample_submission.csv\",engine='python')\n",
        "y=pd.read_csv(\"train_label.csv\",engine='python') #.0.59248"
      ]
    },
    {
      "cell_type": "code",
      "source": [
        "#test.head()#결측데이터 지우기\n",
        "#train.head()#결측데이터 지우기"
      ],
      "metadata": {
        "id": "ZukmPim_MGWj"
      },
      "execution_count": null,
      "outputs": []
    },
    {
      "cell_type": "code",
      "source": [
        "#from sklearn.impute import SimpleImputer #결측값넣을 필요 없음\n",
        "#im=SimpleImputer(strategy='mean')\n",
        "#train=im.fit_transform(train)\n",
        "#test=im.fit_transform(test)"
      ],
      "metadata": {
        "id": "ihyJCE-zPaW-"
      },
      "execution_count": null,
      "outputs": []
    },
    {
      "cell_type": "code",
      "source": [
        "from sklearn.preprocessing import StandardScaler#표준화한거랑안한거 차이없음\n",
        "sc=StandardScaler()\n",
        "sc.fit(train)\n",
        "train_std=sc.transform(train)\n",
        "test_std=sc.transform(test)"
      ],
      "metadata": {
        "id": "xbMA2fV3OIqU"
      },
      "execution_count": null,
      "outputs": []
    },
    {
      "cell_type": "code",
      "source": [
        "y=y.drop('id',axis=1)"
      ],
      "metadata": {
        "id": "OdTgD5EiLbrP"
      },
      "execution_count": null,
      "outputs": []
    },
    {
      "cell_type": "code",
      "source": [
        "from sklearn.discriminant_analysis import LinearDiscriminantAnalysis #왜 LDA가 점수가 더높은지 \n",
        "cld=LinearDiscriminantAnalysis(store_covariance=True) #언제 LDA써야되고 QDA써야되는지\n",
        "cld.fit(train_std,y)\n",
        "y_test_pred=cld.predict(test_std)"
      ],
      "metadata": {
        "id": "brOOJm-grCv1"
      },
      "execution_count": null,
      "outputs": []
    },
    {
      "cell_type": "code",
      "source": [
        "sample['label']=y_test_pred\n",
        "sample.to_csv(\"sample_submission.csv\",index=False)"
      ],
      "metadata": {
        "id": "AYJTpkbAMp1A"
      },
      "execution_count": null,
      "outputs": []
    },
    {
      "cell_type": "code",
      "source": [
        ""
      ],
      "metadata": {
        "id": "_1jiiQQRM3qL"
      },
      "execution_count": null,
      "outputs": []
    }
  ]
}