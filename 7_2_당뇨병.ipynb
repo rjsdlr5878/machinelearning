{
  "nbformat": 4,
  "nbformat_minor": 0,
  "metadata": {
    "colab": {
      "name": "7.2 당뇨병",
      "private_outputs": true,
      "provenance": [],
      "collapsed_sections": [],
      "authorship_tag": "ABX9TyPST8Tp8CwD30c2mt1h73R3",
      "include_colab_link": true
    },
    "kernelspec": {
      "name": "python3",
      "display_name": "Python 3"
    },
    "language_info": {
      "name": "python"
    }
  },
  "cells": [
    {
      "cell_type": "markdown",
      "metadata": {
        "id": "view-in-github",
        "colab_type": "text"
      },
      "source": [
        "<a href=\"https://colab.research.google.com/github/rjsdlr5878/machinelearning/blob/main/7_2_%EB%8B%B9%EB%87%A8%EB%B3%91.ipynb\" target=\"_parent\"><img src=\"https://colab.research.google.com/assets/colab-badge.svg\" alt=\"Open In Colab\"/></a>"
      ]
    },
    {
      "cell_type": "code",
      "execution_count": null,
      "metadata": {
        "id": "2RC16YafRjPU"
      },
      "outputs": [],
      "source": [
        "import pandas as pd\n",
        "submit=pd.read_csv(\"submit.csv\",engine='python')\n",
        "test=pd.read_csv(\"X_test.csv\",engine='python')\n",
        "data=pd.read_csv(\"data.csv\",engine='python')#0.77506"
      ]
    },
    {
      "cell_type": "code",
      "source": [
        "y=data['Diabetes']\n",
        "data=data.drop('Diabetes',axis=1)\n",
        "data=data.drop('Pregnancies',axis=1)##Pregnancies를 없앴더니 점수많이오름\n",
        "test=test.drop('Pregnancies',axis=1)"
      ],
      "metadata": {
        "id": "cfw6gtU7g-B9"
      },
      "execution_count": null,
      "outputs": []
    },
    {
      "cell_type": "code",
      "source": [
        "from sklearn.impute import SimpleImputer\n",
        "im=SimpleImputer(strategy='mean')\n",
        "data=im.fit_transform(data)\n",
        "test=im.fit_transform(test)"
      ],
      "metadata": {
        "id": "qTu5HnsUi3g2"
      },
      "execution_count": null,
      "outputs": []
    },
    {
      "cell_type": "code",
      "source": [
        "from sklearn.preprocessing import StandardScaler\n",
        "sc=StandardScaler()\n",
        "sc.fit(data)\n",
        "data_std=sc.transform(data)\n",
        "test_std=sc.transform(test)"
      ],
      "metadata": {
        "id": "q8xTaMznhmac"
      },
      "execution_count": null,
      "outputs": []
    },
    {
      "cell_type": "code",
      "source": [
        "from sklearn.discriminant_analysis import QuadraticDiscriminantAnalysis\n",
        "cqd=QuadraticDiscriminantAnalysis(store_covariance=True)\n",
        "cqd.fit(data_std,y)\n",
        "y_test_pred=cqd.predict(test_std)"
      ],
      "metadata": {
        "id": "kyiiO2WohniE"
      },
      "execution_count": null,
      "outputs": []
    },
    {
      "cell_type": "code",
      "source": [
        "y_test_pred=cqd.predict(test_std)"
      ],
      "metadata": {
        "id": "rZsqLtlbiFhB"
      },
      "execution_count": null,
      "outputs": []
    },
    {
      "cell_type": "code",
      "source": [
        "submit['Diabetes']=y_test_pred\n",
        "submit.to_csv(\"submit.csv\",index=False)"
      ],
      "metadata": {
        "id": "1eQv58HaiG1-"
      },
      "execution_count": null,
      "outputs": []
    },
    {
      "cell_type": "code",
      "source": [
        ""
      ],
      "metadata": {
        "id": "y2aZukvYiIIB"
      },
      "execution_count": null,
      "outputs": []
    }
  ]
}