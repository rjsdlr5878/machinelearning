{
  "nbformat": 4,
  "nbformat_minor": 0,
  "metadata": {
    "colab": {
      "name": "6.2 우울증 문제",
      "private_outputs": true,
      "provenance": [],
      "collapsed_sections": [],
      "authorship_tag": "ABX9TyMlsyiCRJb4iDy0DaVQTL0A",
      "include_colab_link": true
    },
    "kernelspec": {
      "name": "python3",
      "display_name": "Python 3"
    },
    "language_info": {
      "name": "python"
    }
  },
  "cells": [
    {
      "cell_type": "markdown",
      "metadata": {
        "id": "view-in-github",
        "colab_type": "text"
      },
      "source": [
        "<a href=\"https://colab.research.google.com/github/rjsdlr5878/machinelearning/blob/main/6_2_%EC%9A%B0%EC%9A%B8%EC%A6%9D_%EB%AC%B8%EC%A0%9C.ipynb\" target=\"_parent\"><img src=\"https://colab.research.google.com/assets/colab-badge.svg\" alt=\"Open In Colab\"/></a>"
      ]
    },
    {
      "cell_type": "code",
      "execution_count": null,
      "metadata": {
        "id": "PK-LW9wRE_nn"
      },
      "outputs": [],
      "source": [
        "import pandas as pd\n",
        "import numpy as np\n",
        "train=pd.read_csv(\"train_X.csv\",engine='python')\n",
        "test=pd.read_csv(\"test_X.csv\",engine='python')\n",
        "sample=pd.read_csv(\"sample_submit.csv\",engine='python')\n",
        "y1=pd.read_csv(\"train_Y.csv\",engine='python')\n",
        "#train=train.to_numpy() numpy로 왜바꿔준건지 민배한테 물어보기\n",
        "#test=test.to_numpy()\n",
        "#y=y.to_numpy()\n",
        "#y1=y.reshape(-1)\n",
        "#0.69565"
      ]
    },
    {
      "cell_type": "code",
      "source": [
        "from sklearn.preprocessing import StandardScaler\n",
        "sc=StandardScaler()\n",
        "sc.fit(train)\n",
        "train_std=sc.transform(train)\n",
        "test_std=sc.transform(test)"
      ],
      "metadata": {
        "id": "iiwShdhUL1R5"
      },
      "execution_count": null,
      "outputs": []
    },
    {
      "cell_type": "code",
      "source": [
        "from sklearn.linear_model import LogisticRegression\n",
        "Logit=LogisticRegression(C=5,random_state=10).fit(train_std,y1) #규제강도 C를 언제넣고 언제 안넣는지\n",
        "y_test_pred=Logit.predict(test_std)"
      ],
      "metadata": {
        "id": "jjCrZAOeGUe_"
      },
      "execution_count": null,
      "outputs": []
    },
    {
      "cell_type": "code",
      "source": [
        "sample['label']=y_test_pred\n",
        "sample.to_csv(\"sample_submit.csv\",index=False)"
      ],
      "metadata": {
        "id": "gT6fBQaFGd7a"
      },
      "execution_count": null,
      "outputs": []
    },
    {
      "cell_type": "code",
      "source": [
        ""
      ],
      "metadata": {
        "id": "IfaGK9FMGr36"
      },
      "execution_count": null,
      "outputs": []
    }
  ]
}