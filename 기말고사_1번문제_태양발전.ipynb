{
  "nbformat": 4,
  "nbformat_minor": 0,
  "metadata": {
    "colab": {
      "name": "기말고사 1번문제 태양발전",
      "private_outputs": true,
      "provenance": [],
      "authorship_tag": "ABX9TyM+y3RN4UOuHy/4FIFyDT4s",
      "include_colab_link": true
    },
    "kernelspec": {
      "name": "python3",
      "display_name": "Python 3"
    },
    "language_info": {
      "name": "python"
    }
  },
  "cells": [
    {
      "cell_type": "markdown",
      "metadata": {
        "id": "view-in-github",
        "colab_type": "text"
      },
      "source": [
        "<a href=\"https://colab.research.google.com/github/rjsdlr5878/machinelearning/blob/main/%EA%B8%B0%EB%A7%90%EA%B3%A0%EC%82%AC_1%EB%B2%88%EB%AC%B8%EC%A0%9C_%ED%83%9C%EC%96%91%EB%B0%9C%EC%A0%84.ipynb\" target=\"_parent\"><img src=\"https://colab.research.google.com/assets/colab-badge.svg\" alt=\"Open In Colab\"/></a>"
      ]
    },
    {
      "cell_type": "code",
      "execution_count": null,
      "metadata": {
        "id": "V6sIUANCdd8l"
      },
      "outputs": [],
      "source": [
        "import pandas as pd\n",
        "sample=pd.read_csv(\"sample_submit.csv\",engine='python')\n",
        "test=pd.read_csv(\"test.csv\",engine='python')\n",
        "train=pd.read_csv(\"train.csv\",engine='python')\n",
        "train=train.dropna()\n",
        "y=train['TARGET']\n",
        "train=train.drop(['TARGET','Unnamed: 0','Hour','Minute'],axis=1)\n",
        "test=test.drop(['Unnamed: 0','Hour','Minute'],axis=1)\n",
        "test=test.fillna(10)"
      ]
    },
    {
      "cell_type": "code",
      "source": [
        "from sklearn.impute import SimpleImputer\n",
        "im=SimpleImputer(missing_values='?',fill_value=-1,strategy='most_frequent') \n",
        "train=im.fit_transform(train)\n",
        "test=im.fit_transform(test)"
      ],
      "metadata": {
        "id": "j4SefnHppk2i"
      },
      "execution_count": null,
      "outputs": []
    },
    {
      "cell_type": "code",
      "source": [
        "from sklearn.neighbors import KNeighborsRegressor\n",
        "neigh = KNeighborsRegressor(n_neighbors=4)\n",
        "neigh.fit(train,y)\n",
        "predict=neigh.predict(test)"
      ],
      "metadata": {
        "id": "N4TnJIWg77MK"
      },
      "execution_count": null,
      "outputs": []
    },
    {
      "cell_type": "code",
      "source": [
        "sample['TARGET']=predict\n",
        "sample.to_csv(\"sample_submit.csv\",index=False)"
      ],
      "metadata": {
        "id": "u4GafraV8xlI"
      },
      "execution_count": null,
      "outputs": []
    },
    {
      "cell_type": "code",
      "source": [
        ""
      ],
      "metadata": {
        "id": "P9eqU2IIJBHY"
      },
      "execution_count": null,
      "outputs": []
    }
  ]
}