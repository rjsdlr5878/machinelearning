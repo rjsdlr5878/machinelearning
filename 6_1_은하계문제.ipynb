{
  "nbformat": 4,
  "nbformat_minor": 0,
  "metadata": {
    "colab": {
      "name": "6.1 은하계문제",
      "private_outputs": true,
      "provenance": [],
      "collapsed_sections": [],
      "authorship_tag": "ABX9TyPHJfSM8fEVNWVvmqPQ046t",
      "include_colab_link": true
    },
    "kernelspec": {
      "name": "python3",
      "display_name": "Python 3"
    },
    "language_info": {
      "name": "python"
    }
  },
  "cells": [
    {
      "cell_type": "markdown",
      "metadata": {
        "id": "view-in-github",
        "colab_type": "text"
      },
      "source": [
        "<a href=\"https://colab.research.google.com/github/rjsdlr5878/machinelearning/blob/main/6_1_%EC%9D%80%ED%95%98%EA%B3%84%EB%AC%B8%EC%A0%9C.ipynb\" target=\"_parent\"><img src=\"https://colab.research.google.com/assets/colab-badge.svg\" alt=\"Open In Colab\"/></a>"
      ]
    },
    {
      "cell_type": "code",
      "execution_count": null,
      "metadata": {
        "id": "scAw2LrI4jOX"
      },
      "outputs": [],
      "source": [
        "import pandas as pd\n",
        "train=pd.read_csv(\"train_desc_pca.csv\",engine='python')\n",
        "test=pd.read_csv(\"test_desc_pca.csv\",engine='python')\n",
        "sample=pd.read_csv(\"sample_submit.csv\",engine='python')\n",
        "y=pd.read_csv(\"train_label.csv\",engine='python')\n",
        "y1=y['Category']\n",
        "#0.79666 점수 영향주는거 정규화만 영향있었음"
      ]
    },
    {
      "cell_type": "code",
      "source": [
        "#from sklearn.preprocessing import MinMaxScaler\n",
        "#scaler=MinMaxScaler()\n",
        "#scaler.fit(train)\n",
        "#train_mms=scaler.transform(train)\n",
        "#test_mms=scaler.transform(test)\n",
        "#from sklearn.linear_model import LogisticRegression\n",
        "#Logit=LogisticRegression(C=300,random_state=11).fit(train_mms,y1)\n",
        "#y_test_pred=Logit.predict(test_mms)"
      ],
      "metadata": {
        "id": "sTf3cP-VBFqb"
      },
      "execution_count": null,
      "outputs": []
    },
    {
      "cell_type": "code",
      "source": [
        "from sklearn.preprocessing import StandardScaler\n",
        "sc=StandardScaler()\n",
        "sc.fit(train)\n",
        "train_std=sc.transform(train)\n",
        "test_std=sc.transform(test)"
      ],
      "metadata": {
        "id": "3Q9FW_l06Lsb"
      },
      "execution_count": null,
      "outputs": []
    },
    {
      "cell_type": "code",
      "source": [
        "from sklearn.linear_model import LogisticRegression\n",
        "Logit=LogisticRegression(C=300,random_state=11).fit(train_std,y1) #C=규제강도 정규화해주냐안해주냐 차이큼\n",
        "y_test_pred=Logit.predict(test_std)"
      ],
      "metadata": {
        "id": "5d-rLUNk6qjl"
      },
      "execution_count": null,
      "outputs": []
    },
    {
      "cell_type": "code",
      "source": [
        "sample['Category']=y_test_pred\n",
        "sample.to_csv(\"sample_submit.csv\",index=False)"
      ],
      "metadata": {
        "id": "9_P6MeJV8eO3"
      },
      "execution_count": null,
      "outputs": []
    },
    {
      "cell_type": "code",
      "source": [
        ""
      ],
      "metadata": {
        "id": "zpuYq3kYhqAc"
      },
      "execution_count": null,
      "outputs": []
    }
  ]
}